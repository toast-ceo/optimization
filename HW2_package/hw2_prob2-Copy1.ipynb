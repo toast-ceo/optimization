{
 "cells": [
  {
   "cell_type": "code",
   "execution_count": 2,
   "id": "2c0db3e6-090b-4cba-bc46-bd61e75dc868",
   "metadata": {},
   "outputs": [],
   "source": [
    "import numpy as np\n",
    "import scipy.io\n",
    "import matplotlib.pyplot as plt"
   ]
  },
  {
   "cell_type": "code",
   "execution_count": 3,
   "id": "05b3a6b4-72df-4e89-bba6-319f6683a0bb",
   "metadata": {},
   "outputs": [],
   "source": [
    "# MAT 파일 불러오기\n",
    "mat_path = r\"../HW2_package/hw2_prob2.mat\"\n",
    "mat_data = scipy.io.loadmat(mat_path)\n",
    "\n",
    "# 변수 할당\n",
    "A = mat_data['A']\n",
    "d = mat_data['d']\n",
    "d_up = mat_data['d_up']"
   ]
  },
  {
   "cell_type": "code",
   "execution_count": 6,
   "id": "7169c697-db03-44a8-a67b-52ae9b79d160",
   "metadata": {},
   "outputs": [
    {
     "name": "stdout",
     "output_type": "stream",
     "text": [
      "(3007, 1568)\n"
     ]
    }
   ],
   "source": [
    "# DVH"
   ]
  },
  {
   "cell_type": "code",
   "execution_count": null,
   "id": "5b7f951d-ea39-4a3d-9c61-c914c875e560",
   "metadata": {},
   "outputs": [],
   "source": []
  }
 ],
 "metadata": {
  "kernelspec": {
   "display_name": "Python 3 (ipykernel)",
   "language": "python",
   "name": "python3"
  },
  "language_info": {
   "codemirror_mode": {
    "name": "ipython",
    "version": 3
   },
   "file_extension": ".py",
   "mimetype": "text/x-python",
   "name": "python",
   "nbconvert_exporter": "python",
   "pygments_lexer": "ipython3",
   "version": "3.9.18"
  }
 },
 "nbformat": 4,
 "nbformat_minor": 5
}
