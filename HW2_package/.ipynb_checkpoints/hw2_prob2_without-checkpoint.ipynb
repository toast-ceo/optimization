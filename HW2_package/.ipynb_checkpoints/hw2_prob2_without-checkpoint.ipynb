{
 "cells": [
  {
   "cell_type": "code",
   "execution_count": 1,
   "id": "2c0db3e6-090b-4cba-bc46-bd61e75dc868",
   "metadata": {},
   "outputs": [],
   "source": [
    "import numpy as np\n",
    "import scipy.io\n",
    "import matplotlib.pyplot as plt"
   ]
  },
  {
   "cell_type": "code",
   "execution_count": 2,
   "id": "05b3a6b4-72df-4e89-bba6-319f6683a0bb",
   "metadata": {},
   "outputs": [],
   "source": [
    "# MAT 파일 불러오기\n",
    "mat_path = r\"../HW2_package/hw2_prob2.mat\"\n",
    "mat_data = scipy.io.loadmat(mat_path)\n",
    "\n",
    "# 변수 할당\n",
    "A = mat_data['A']\n",
    "d = mat_data['d']\n",
    "d_up = mat_data['d_up']\n",
    "t = 2"
   ]
  },
  {
   "cell_type": "code",
   "execution_count": 3,
   "id": "fa4b37ac-76fd-4c37-949f-d874c43fd05c",
   "metadata": {},
   "outputs": [],
   "source": [
    "# minimum f\n",
    "def f(x):\n",
    "    return 0.5 * (np.linalg.norm(np.matmul(A, x) - d, ord = 2) ** 2)\n",
    "    \n",
    "def f_1_differential(x):\n",
    "    return A.T @ (A @ x - d)"
   ]
  },
  {
   "cell_type": "code",
   "execution_count": 8,
   "id": "7f532bfa-081b-4d2b-aad1-bd148117b40a",
   "metadata": {},
   "outputs": [],
   "source": [
    "def F(x, t):\n",
    "    return f(x) + (- np.sum(np.log(d_up - np.matmul(A, x))) / t)\n",
    "    \n",
    "def F_1_differential(x, t):\n",
    "    logb_grad = 0\n",
    "    \n",
    "    for i in range(A.shape[0]):\n",
    "        logb_grad += A[i, :].T * (1 / d_up[i]- (A @ x)[i])\n",
    "    logb_grad = logb_grad.reshape(-1, 1) \n",
    "    return f_1_differential(x) + logb_grad / t"
   ]
  },
  {
   "cell_type": "code",
   "execution_count": 9,
   "id": "442943c7-007c-449e-9819-909b21b0b955",
   "metadata": {},
   "outputs": [
    {
     "name": "stdout",
     "output_type": "stream",
     "text": [
      "(1568, 1)\n",
      "(1568,)\n",
      "(1568, 1)\n",
      "(1568,)\n"
     ]
    },
    {
     "ename": "KeyboardInterrupt",
     "evalue": "",
     "output_type": "error",
     "traceback": [
      "\u001b[1;31m---------------------------------------------------------------------------\u001b[0m",
      "\u001b[1;31mKeyboardInterrupt\u001b[0m                         Traceback (most recent call last)",
      "Cell \u001b[1;32mIn[9], line 18\u001b[0m\n\u001b[0;32m     15\u001b[0m     step_size \u001b[38;5;241m*\u001b[39m\u001b[38;5;241m=\u001b[39m beta\n\u001b[0;32m     17\u001b[0m \u001b[38;5;66;03m#backtracking line search\u001b[39;00m\n\u001b[1;32m---> 18\u001b[0m \u001b[38;5;28;01mwhile\u001b[39;00m F((xk \u001b[38;5;241m+\u001b[39m step_size \u001b[38;5;241m*\u001b[39m delta_x), t) \u001b[38;5;241m>\u001b[39m (F(xk, t) \u001b[38;5;241m+\u001b[39m alpha \u001b[38;5;241m*\u001b[39m step_size \u001b[38;5;241m*\u001b[39m \u001b[43mF_1_differential\u001b[49m\u001b[43m(\u001b[49m\u001b[43mxk\u001b[49m\u001b[43m,\u001b[49m\u001b[43m \u001b[49m\u001b[43mt\u001b[49m\u001b[43m)\u001b[49m\u001b[38;5;241m.\u001b[39mT \u001b[38;5;241m@\u001b[39m delta_x):\n\u001b[0;32m     19\u001b[0m     step_size \u001b[38;5;241m*\u001b[39m\u001b[38;5;241m=\u001b[39m beta\n\u001b[0;32m     20\u001b[0m xk \u001b[38;5;241m=\u001b[39m xk \u001b[38;5;241m+\u001b[39m step_size \u001b[38;5;241m*\u001b[39m delta_x\n",
      "Cell \u001b[1;32mIn[8], line 9\u001b[0m, in \u001b[0;36mF_1_differential\u001b[1;34m(x, t)\u001b[0m\n\u001b[0;32m      7\u001b[0m \u001b[38;5;28mprint\u001b[39m(A[\u001b[38;5;241m0\u001b[39m, :]\u001b[38;5;241m.\u001b[39mshape)\n\u001b[0;32m      8\u001b[0m \u001b[38;5;28;01mfor\u001b[39;00m i \u001b[38;5;129;01min\u001b[39;00m \u001b[38;5;28mrange\u001b[39m(A\u001b[38;5;241m.\u001b[39mshape[\u001b[38;5;241m0\u001b[39m]):\n\u001b[1;32m----> 9\u001b[0m     logb_grad \u001b[38;5;241m+\u001b[39m\u001b[38;5;241m=\u001b[39m A[i, :]\u001b[38;5;241m.\u001b[39mT \u001b[38;5;241m*\u001b[39m (\u001b[38;5;241m1\u001b[39m \u001b[38;5;241m/\u001b[39m d_up[i]\u001b[38;5;241m-\u001b[39m (\u001b[43mA\u001b[49m\u001b[43m \u001b[49m\u001b[38;5;241;43m@\u001b[39;49m\u001b[43m \u001b[49m\u001b[43mx\u001b[49m)[i])\n\u001b[0;32m     10\u001b[0m logb_grad \u001b[38;5;241m=\u001b[39m logb_grad\u001b[38;5;241m.\u001b[39mreshape(\u001b[38;5;241m-\u001b[39m\u001b[38;5;241m1\u001b[39m, \u001b[38;5;241m1\u001b[39m) \n\u001b[0;32m     11\u001b[0m \u001b[38;5;28;01mreturn\u001b[39;00m f_1_differential(x) \u001b[38;5;241m+\u001b[39m logb_grad \u001b[38;5;241m/\u001b[39m t\n",
      "\u001b[1;31mKeyboardInterrupt\u001b[0m: "
     ]
    }
   ],
   "source": [
    "# with inequality constraint\n",
    "xk = np.zeros((A.shape[1], 1))\n",
    "\n",
    "# 조정 값\n",
    "alpha = 0.01\n",
    "beta = 0.8\n",
    "\n",
    "for idx in range(10000):  \n",
    "    \n",
    "    delta_x = - F_1_differential(xk, t)\n",
    "    step_size = 1\n",
    "    \n",
    "    #feasibility check\n",
    "    while np.min(d_up- A @ (xk + step_size * delta_x)) <= 0: \n",
    "        step_size *= beta\n",
    "        \n",
    "    #backtracking line search\n",
    "    while F((xk + step_size * delta_x), t) > (F(xk, t) + alpha * step_size * F_1_differential(xk, t).T @ delta_x):\n",
    "        step_size *= beta\n",
    "        \n",
    "    xk = xk + step_size * delta_x\n",
    "    \n",
    "    print(idx, delta_x, f(xk), F(xk, t))"
   ]
  },
  {
   "cell_type": "code",
   "execution_count": null,
   "id": "0e40eebb-bb1e-4364-af42-b2e969cf6486",
   "metadata": {},
   "outputs": [],
   "source": [
    "# DVH\n",
    "np.save(r\"../HW2_package/xk_with_inequality_constraint.npy\", xk)"
   ]
  },
  {
   "cell_type": "code",
   "execution_count": null,
   "id": "c0f33c2e-f550-4495-a427-5431acdf9895",
   "metadata": {},
   "outputs": [],
   "source": [
    "# without inequality constraint\n",
    "\n",
    "t = 2\n",
    "xk_f = np.zeros((A.shape[1], 1))\n",
    "\n",
    "# 조정 값F\n",
    "alpha = 0.01\n",
    "beta = 0.8\n",
    "\n",
    "\n",
    "\n",
    "for idx in range(10000):\n",
    "    \n",
    "    delta_x = - f_1_differential(xk_f)\n",
    "    step_size = 1\n",
    "\n",
    "\n",
    "    #backtracking line search\n",
    "    while f(xk_f + step_size * delta_x) > (f(xk_f) + alpha * step_size * f_1_differential(xk_f).T @ delta_x):\n",
    "        step_size *= beta\n",
    "    \n",
    "    xk_f = xk_f + step_size * delta_x\n",
    "    \n",
    "    \n",
    "    print(idx, xk_f, f(xk_f))"
   ]
  },
  {
   "cell_type": "code",
   "execution_count": null,
   "id": "b39b9646-be3c-4fcb-aed0-4cb1bb3b0125",
   "metadata": {},
   "outputs": [],
   "source": [
    "np.save(r\"../HW2_package/xk_without_inequality_constraint.npy\", xk_f)"
   ]
  },
  {
   "cell_type": "code",
   "execution_count": null,
   "id": "b6610105-6fb2-4d51-a3b0-6637574c2bbb",
   "metadata": {
    "scrolled": true
   },
   "outputs": [],
   "source": [
    "def get_DVH_PTV(PTV, x_beam):\n",
    "    # Create x-axis array \n",
    "    x_ax = np.arange(0, 70, 0.1)\n",
    "    # Calculate the PTV_dummy by multiplying PTV with x_beam broadcasted to the right shape\n",
    "    PTV_dummy = PTV * np.reshape(x_beam, (-1,))\n",
    "    # Compute the histogram of PTV_dummy along x_ax\n",
    "    Dummy_t = np.histogram(PTV_dummy, bins=x_ax)[0]\n",
    "    # Compute the DVH (Dose Volume Histogram) by flipping and cumulatively summing the histogram\n",
    "    DVH_t = np.flip(np.cumsum(np.flip(Dummy_t)))\n",
    "    # Normalize the DVH\n",
    "    DVH_PTV = DVH_t / np.max(DVH_t)\n",
    "    return DVH_PTV\n",
    "\n",
    "\n",
    "# x1 = np.load(r\"../HW2_package/xk_with_inequality_constraint.npy\",)\n",
    "x2 = np.load(r\"../HW2_package/xk_without_inequality_constraint.npy\")\n",
    "\n",
    "# for i in range(len(x1)):\n",
    "#     print(x1[i], x2[i])\n",
    "# dp1 = get_DVH_PTV(A, x1)\n",
    "dp2 = get_DVH_PTV(A, x2)\n",
    "\n",
    "\n",
    "# plt.plot(dp1, color = \"r\")\n",
    "plt.plot(dp2, color = \"b\")\n",
    "\n",
    "plt.show()"
   ]
  }
 ],
 "metadata": {
  "kernelspec": {
   "display_name": "Python 3 (ipykernel)",
   "language": "python",
   "name": "python3"
  },
  "language_info": {
   "codemirror_mode": {
    "name": "ipython",
    "version": 3
   },
   "file_extension": ".py",
   "mimetype": "text/x-python",
   "name": "python",
   "nbconvert_exporter": "python",
   "pygments_lexer": "ipython3",
   "version": "3.9.18"
  }
 },
 "nbformat": 4,
 "nbformat_minor": 5
}
