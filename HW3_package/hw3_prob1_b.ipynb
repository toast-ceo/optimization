{
 "cells": [
  {
   "cell_type": "code",
   "execution_count": 1,
   "id": "8b6f1f35-34a5-4d9f-9715-1084f7d0b7be",
   "metadata": {},
   "outputs": [],
   "source": [
    "# 라이브러리 호출\n",
    "import numpy as np\n",
    "import scipy.io\n",
    "import matplotlib.pyplot as plt"
   ]
  },
  {
   "cell_type": "code",
   "execution_count": 3,
   "id": "154c5270-03f9-4b87-b214-7ac1d5db4851",
   "metadata": {},
   "outputs": [],
   "source": [
    "# MAT 파일 불러오기\n",
    "mat_path = r\"../HW3_package/hw3_prob1a.mat\"\n",
    "mat_data = scipy.io.loadmat(mat_path)\n",
    "\n",
    "# 변수 할당\n",
    "A = mat_data['A']\n",
    "b = mat_data['b']\n",
    "x_orig = mat_data['x_orig']"
   ]
  },
  {
   "cell_type": "code",
   "execution_count": null,
   "id": "794c73c6-0287-4a4e-832d-3dcce1f56798",
   "metadata": {},
   "outputs": [],
   "source": []
  }
 ],
 "metadata": {
  "kernelspec": {
   "display_name": "Python 3 (ipykernel)",
   "language": "python",
   "name": "python3"
  },
  "language_info": {
   "codemirror_mode": {
    "name": "ipython",
    "version": 3
   },
   "file_extension": ".py",
   "mimetype": "text/x-python",
   "name": "python",
   "nbconvert_exporter": "python",
   "pygments_lexer": "ipython3",
   "version": "3.9.18"
  }
 },
 "nbformat": 4,
 "nbformat_minor": 5
}
