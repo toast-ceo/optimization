{
 "cells": [
  {
   "cell_type": "code",
   "execution_count": 1,
   "id": "d1fb2a55",
   "metadata": {},
   "outputs": [],
   "source": [
    "# 라이브러리 호출\n",
    "import numpy as np\n",
    "import scipy.io\n",
    "import matplotlib.pyplot as plt"
   ]
  },
  {
   "cell_type": "code",
   "execution_count": 2,
   "id": "2a193f9a",
   "metadata": {},
   "outputs": [],
   "source": [
    "# MAT 파일 불러오기\n",
    "mat_path = r\"../HW3_package/hw3_prob1a.mat\"\n",
    "mat_data = scipy.io.loadmat(mat_path)\n",
    "\n",
    "# 변수 할당\n",
    "A = mat_data['A']\n",
    "b = mat_data['b']\n",
    "x_orig = mat_data['x_orig']"
   ]
  },
  {
   "cell_type": "code",
   "execution_count": 3,
   "id": "5ca2ae86",
   "metadata": {},
   "outputs": [],
   "source": [
    "def g(x):\n",
    "    return (np.linalg.norm((A @ x - b), 2) ** 2)\n",
    "\n",
    "def h(x):\n",
    "    return lambda_v * np.linalg.norm(x, 1)\n",
    "\n",
    "def f(x):\n",
    "    return g(x)/2 + h(x)"
   ]
  },
  {
   "cell_type": "code",
   "execution_count": 4,
   "id": "1a6f5f82",
   "metadata": {},
   "outputs": [],
   "source": [
    "def grad_g(x):\n",
    "    return A.T @ (A @ x - b)"
   ]
  },
  {
   "cell_type": "code",
   "execution_count": 5,
   "id": "1dc494bb",
   "metadata": {},
   "outputs": [],
   "source": [
    "# ISTA\n",
    "x = np.zeros((A.shape[1], 1))\n",
    "\n",
    "lambda_v = 2\n",
    "# t = 1/L \n",
    "t =  1/ np.linalg.norm(A, 2) ** 2\n",
    "stopping_point = 1e-4\n",
    "\n",
    "arr_x = []\n",
    "while True:\n",
    "    x_minus1 = x\n",
    "    # step 1. consider g(x)  \n",
    "    g_x = x - t * grad_g(x)\n",
    "    # step 2. soft thresholding\n",
    "    x = np.sign(g_x) * np.maximum(np.abs(g_x) - lambda_v * t, 0)\n",
    "\n",
    "    # break check \n",
    "    if  (np.linalg.norm((x - x_minus1), 2) / np.linalg.norm(x, 2)) < stopping_point:\n",
    "        break    "
   ]
  },
  {
   "cell_type": "code",
   "execution_count": 6,
   "id": "07e55c04-f297-4c1b-8a61-d9f67ce6d0c2",
   "metadata": {},
   "outputs": [
    {
     "data": {
      "image/png": "[encoded data removed]",
      "text/plain": [
       "<Figure size 640x480 with 1 Axes>"
      ]
     },
     "metadata": {},
     "output_type": "display_data"
    }
   ],
   "source": [
    "plt.plot(x_orig,'bo')\n",
    "plt.plot(x,\"rx\" )\n",
    "plt.show()"
   ]
  },
  {
   "cell_type": "code",
   "execution_count": null,
   "id": "3a39357e-d4ab-49ac-88c3-38b535508577",
   "metadata": {},
   "outputs": [],
   "source": []
  }
 ],
 "metadata": {
  "kernelspec": {
   "display_name": "Python 3 (ipykernel)",
   "language": "python",
   "name": "python3"
  },
  "language_info": {
   "codemirror_mode": {
    "name": "ipython",
    "version": 3
   },
   "file_extension": ".py",
   "mimetype": "text/x-python",
   "name": "python",
   "nbconvert_exporter": "python",
   "pygments_lexer": "ipython3",
   "version": "3.11.5"
  }
 },
 "nbformat": 4,
 "nbformat_minor": 5
}
