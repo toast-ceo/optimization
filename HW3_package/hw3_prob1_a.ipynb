{
 "cells": [
  {
   "cell_type": "code",
   "execution_count": 1,
   "id": "a7f8cc64-8fa1-4268-8566-95facb6a9dc3",
   "metadata": {},
   "outputs": [],
   "source": [
    "# 라이브러리 호출\n",
    "import numpy as np\n",
    "import scipy.io\n",
    "import matplotlib.pyplot as plt"
   ]
  },
  {
   "cell_type": "code",
   "execution_count": 2,
   "id": "898c6d4b-24d2-476c-be4b-fb92fd8b322c",
   "metadata": {},
   "outputs": [],
   "source": [
    "# MAT 파일 불러오기\n",
    "mat_path = r\"../HW3_package/hw3_prob1a.mat\"\n",
    "mat_data = scipy.io.loadmat(mat_path)\n",
    "\n",
    "# 변수 할당\n",
    "A = mat_data['A']\n",
    "b = mat_data['b']\n",
    "x_orig = mat_data['x_orig']"
   ]
  },
  {
   "cell_type": "code",
   "execution_count": 3,
   "id": "f44dc779-e1ea-48d5-928d-d40c6e5c217e",
   "metadata": {},
   "outputs": [],
   "source": [
    "def g(x):\n",
    "    return (np.linalg.norm((A @ x - b), 2) ** 2)\n",
    "\n",
    "def h(x):\n",
    "    return lambda_v * np.linalg.norm(x, 1)\n",
    "\n",
    "def f(x):\n",
    "    return (g(x) + h(x))/2\n",
    "\n",
    "def grad_g(x):\n",
    "    return A.T @ (A @ x - b)"
   ]
  },
  {
   "cell_type": "code",
   "execution_count": 4,
   "id": "cb379850-7b35-4102-96f2-dff050513b15",
   "metadata": {},
   "outputs": [],
   "source": [
    "# ISTA\n",
    "ista_x = np.zeros((A.shape[1], 1))\n",
    "\n",
    "lambda_v = 2\n",
    "# t = 1/L \n",
    "t =  1/ np.linalg.norm(A, 2) ** 2\n",
    "stopping_point = 1e-4\n",
    "\n",
    "arr_ista = []\n",
    "\n",
    "while True:\n",
    "    x_minus1 = ista_x\n",
    "    # step 1. consider g(x)  \n",
    "    g_x = ista_x - t * grad_g(ista_x)\n",
    "    # step 2. soft thresholding\n",
    "    ista_x = np.sign(g_x) * np.maximum(np.abs(g_x) - lambda_v * t, 0)\n",
    "\n",
    "\n",
    "    arr_ista.append(np.linalg.norm(ista_x - x_orig))\n",
    "    \n",
    "    # break check \n",
    "    if  (np.linalg.norm((ista_x - x_minus1), 2) / np.linalg.norm(ista_x, 2)) < stopping_point:\n",
    "        break  \n"
   ]
  },
  {
   "cell_type": "code",
   "execution_count": 5,
   "id": "6c5e5c3e-ccab-4e3c-9fb3-aba579cac504",
   "metadata": {},
   "outputs": [],
   "source": [
    "# FISTA\n",
    "fista_x = np.zeros((A.shape[1], 1))\n",
    "y = fista_x\n",
    "\n",
    "lambda_v = 2\n",
    "# t = 1/L \n",
    "t =  1/ np.linalg.norm(A, 2) ** 2\n",
    "stopping_point = 1e-4\n",
    "\n",
    "arr_fista = []\n",
    "for iter in range(100000):\n",
    "    \n",
    "    x_minus1 = fista_x\n",
    "\n",
    "    # step 1. consider g(x)  \n",
    "    g_x = y - t * grad_g(y)\n",
    "    \n",
    "    # step 2. soft thresholding\n",
    "    fista_x = np.sign(g_x) * np.maximum(np.abs(g_x) - lambda_v * t, 0)\n",
    "\n",
    "    arr_fista.append(np.linalg.norm(fista_x - x_orig))\n",
    "    \n",
    "    # break check\n",
    "    # +) iter가 0일 때, norm의 값이 1이 되고, 1일 때 norm의 값이 0되기 떄문에 \n",
    "    #    iter가 2인 지점부터 break를 확인해야함.\n",
    "    if  (np.linalg.norm((fista_x - x_minus1), 2) / np.linalg.norm(fista_x, 2)) < stopping_point and iter > 1:\n",
    "        break    \n",
    "    \n",
    "    # y_k1 = x_k1 + (k / k + 3) * (x_k1 - x_k) \n",
    "    if iter >= 1:\n",
    "        y = fista_x + (iter / (iter + 3) * (fista_x - x_minus1))\n"
   ]
  },
  {
   "cell_type": "code",
   "execution_count": 6,
   "id": "fed0de4f-149c-4579-b463-4c5b762fd43b",
   "metadata": {},
   "outputs": [
    {
     "data": {
      "image/png": "[encoded data removed]",
      "text/plain": [
       "<Figure size 640x480 with 1 Axes>"
      ]
     },
     "metadata": {},
     "output_type": "display_data"
    }
   ],
   "source": [
    "plt.plot(arr_ista, 'r',label = \"ista\")\n",
    "plt.plot(arr_fista, 'b', label = \"fista\")\n",
    "plt.legend() \n",
    "plt.show()"
   ]
  },
  {
   "cell_type": "code",
   "execution_count": null,
   "id": "1d8c4516-a290-4131-b9d0-4f1242186e1e",
   "metadata": {},
   "outputs": [],
   "source": []
  }
 ],
 "metadata": {
  "kernelspec": {
   "display_name": "Python 3 (ipykernel)",
   "language": "python",
   "name": "python3"
  },
  "language_info": {
   "codemirror_mode": {
    "name": "ipython",
    "version": 3
   },
   "file_extension": ".py",
   "mimetype": "text/x-python",
   "name": "python",
   "nbconvert_exporter": "python",
   "pygments_lexer": "ipython3",
   "version": "3.9.18"
  }
 },
 "nbformat": 4,
 "nbformat_minor": 5
}
