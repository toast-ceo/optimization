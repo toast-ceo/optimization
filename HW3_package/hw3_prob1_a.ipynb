{
 "cells": [
  {
   "cell_type": "code",
   "execution_count": 7,
   "id": "d1fb2a55",
   "metadata": {},
   "outputs": [],
   "source": [
    "# 라이브러리 호출\n",
    "import numpy as np\n",
    "import scipy.io\n",
    "import matplotlib.pyplot as plt"
   ]
  },
  {
   "cell_type": "code",
   "execution_count": 13,
   "id": "2a193f9a",
   "metadata": {},
   "outputs": [],
   "source": [
    "# MAT 파일 불러오기\n",
    "mat_path = r\"../HW3_package/hw3_prob1a.mat\"\n",
    "mat_data = scipy.io.loadmat(mat_path)\n",
    "\n",
    "# 변수 할당\n",
    "A = mat_data['A']\n",
    "b = mat_data['b']\n",
    "x_orig = mat_data['x_orig']"
   ]
  },
  {
   "cell_type": "code",
   "execution_count": 15,
   "id": "5ca2ae86",
   "metadata": {},
   "outputs": [],
   "source": [
    "def g(x):\n",
    "    return (np.linalg.norm((A @ x - b), 2) ** 2)\n",
    "\n",
    "def h(x):\n",
    "    return lambda_v * np.linalg.norm((A @ x - b), 1)\n",
    "\n",
    "def f(x):\n",
    "    return (g(x) + h(x))/2"
   ]
  },
  {
   "cell_type": "code",
   "execution_count": 16,
   "id": "1a6f5f82",
   "metadata": {},
   "outputs": [],
   "source": [
    "def grad_g(x):\n",
    "    return A.T @ (A @ x - b)"
   ]
  },
  {
   "cell_type": "code",
   "execution_count": null,
   "id": "1dc494bb",
   "metadata": {},
   "outputs": [],
   "source": [
    "# ISTA\n",
    "x = np.zeros((A[1], 1))\n",
    "\n",
    "lambda_v = 2\n",
    "# t = 1/L \n",
    "t =  np.linalg.norm(A, 2) ** 2\n",
    "stopping_point = 1e-4\n",
    "\n",
    "\n",
    "while True:\n",
    "    \n",
    "    delta_x = x - t * grad_g(xk)\n",
    "   \n",
    "    x = np.where(np.abs(temp_x) > TH, (np.abs(temp_x) - TH) * np.sign(temp_x), 0)\n",
    "    \n",
    "    # break check \n",
    "    if  (np.linalg.norm((xk - xk_1), 2)/np.linalg.norm(xk, 1))  > stopping_point:\n",
    "        break\n",
    "    xk_old = xk\n",
    "    \n",
    "    "
   ]
  }
 ],
 "metadata": {
  "kernelspec": {
   "display_name": "Python 3 (ipykernel)",
   "language": "python",
   "name": "python3"
  },
  "language_info": {
   "codemirror_mode": {
    "name": "ipython",
    "version": 3
   },
   "file_extension": ".py",
   "mimetype": "text/x-python",
   "name": "python",
   "nbconvert_exporter": "python",
   "pygments_lexer": "ipython3",
   "version": "3.11.5"
  }
 },
 "nbformat": 4,
 "nbformat_minor": 5
}
