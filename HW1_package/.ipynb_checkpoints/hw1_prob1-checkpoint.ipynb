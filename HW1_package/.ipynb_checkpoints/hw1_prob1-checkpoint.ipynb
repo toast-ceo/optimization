{
 "cells": [
  {
   "cell_type": "code",
   "execution_count": 1,
   "id": "d2dc5e89-9487-42b4-b476-55751e8b024b",
   "metadata": {},
   "outputs": [],
   "source": [
    "import numpy as np\n",
    "import numpy.linalg as la\n",
    "import pandas as pd\n",
    "import matplotlib.pyplot as plt\n",
    "import scipy.io"
   ]
  },
  {
   "cell_type": "code",
   "execution_count": 8,
   "id": "8180492b-4dc4-4e6a-9a8c-8310cc6082c6",
   "metadata": {},
   "outputs": [],
   "source": [
    "# CSV 파일 불러오기\n",
    "mat_path = r\"/Users/toastceo/Desktop/연세대/과제/HW1_package/hw1_prob1.mat\"\n",
    "mat_data = scipy.io.loadmat(mat_path)"
   ]
  },
  {
   "cell_type": "code",
   "execution_count": 9,
   "id": "c9d0e440-3c06-4257-84d7-7656c1c82930",
   "metadata": {},
   "outputs": [],
   "source": [
    "# 변수 준비\n",
    "# 각 변수 배열 할당 (k, m, n, T)\n",
    "k = np.squeeze(np.log(np.array(mat_data[\"k\"])))\n",
    "m = np.squeeze(np.log(np.array(mat_data[\"m\"])))\n",
    "n = np.squeeze(np.log(np.array(mat_data[\"n\"])))\n",
    "T = np.squeeze(np.log(np.array(mat_data[\"T\"])))\n",
    "N = 30\n",
    "\n",
    "# log a를 위해 A의 0번째 열은 1로 채워줘야함. 따라서 ones 함수 사용\n",
    "A = np.ones((N, 4))\n",
    "A_T = np.transpose(A,(1,0))\n",
    "\n",
    "# k, m, n 변수들을 A행렬에 넣어준다  \n",
    "A[:,1] = k\n",
    "A[:,2] = m\n",
    "A[:,3] = n"
   ]
  },
  {
   "cell_type": "code",
   "execution_count": 10,
   "id": "58357cae-7934-4330-91ff-aaa1d720a260",
   "metadata": {},
   "outputs": [
    {
     "name": "stdout",
     "output_type": "stream",
     "text": [
      "alpha 9.336394292787991e-15\n",
      "beta 3.1062144976045802\n",
      "gamma 1.0942886079686671\n",
      "delta 2.1077985665372028\n"
     ]
    }
   ],
   "source": [
    "# x = (A^T * A)^-1 * A^T * b \n",
    "# matmul -> 행렬의 크기가 같을 때 사용할 수 있음\n",
    "ATA_I = np.linalg.inv(np.matmul(A_T, A))\n",
    "ATA_I_AT = np.matmul(ATA_I, A_T)\n",
    "x = np.matmul(ATA_I_AT, T)\n",
    "\n",
    "# x의 값: 즉 log α, β, γ, δ\n",
    "print(\"alpha\", np.exp(x[0]))\n",
    "print(\"beta\", x[1])\n",
    "print(\"gamma\", x[2])\n",
    "print(\"delta\", x[3])"
   ]
  },
  {
   "cell_type": "code",
   "execution_count": null,
   "id": "4b600965-4789-425c-ba39-5e077b94d887",
   "metadata": {},
   "outputs": [],
   "source": [
    "T_hat = np.matmul(A, x)\n",
    "l_30 = [i for i in range(30)]\n",
    "\n",
    "\n",
    "plt.plot(l_30, np.exp(T), \"r\")\n",
    "plt.plot(l_30, np.exp(T_hat), \"b\")\n",
    "plt.show()\n",
    "\n",
    "\n",
    "for i in range(len(T_hat)):\n",
    "    print(\"예측값:\", float(np.exp(T_hat[i])),\"실제값:\", float(np.exp(T[i])))"
   ]
  }
 ],
 "metadata": {
  "kernelspec": {
   "display_name": "Python 3 (ipykernel)",
   "language": "python",
   "name": "python3"
  },
  "language_info": {
   "codemirror_mode": {
    "name": "ipython",
    "version": 3
   },
   "file_extension": ".py",
   "mimetype": "text/x-python",
   "name": "python",
   "nbconvert_exporter": "python",
   "pygments_lexer": "ipython3",
   "version": "3.9.18"
  }
 },
 "nbformat": 4,
 "nbformat_minor": 5
}
